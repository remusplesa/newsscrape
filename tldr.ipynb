{
 "cells": [
  {
   "cell_type": "code",
   "execution_count": 3,
   "metadata": {},
   "outputs": [
    {
     "name": "stdout",
     "output_type": "stream",
     "text": [
      "arabic danish dutch english finnish french german hungarian italian norwegian porter portuguese romanian russian spanish swedish\n"
     ]
    }
   ],
   "source": [
    "from nltk.stem import SnowballStemmer\n",
    "from nltk.tokenize import word_tokenize\n",
    "print(\" \".join(SnowballStemmer.languages))"
   ]
  },
  {
   "cell_type": "code",
   "execution_count": 82,
   "metadata": {},
   "outputs": [],
   "source": [
    "\n",
    "contentt = 'Liviu Voiculescu, primarul comunei Cungrea, județul Olt, a distribuit localnicilor Paști și anafură de la biserică în cutii pe care era inscripționat numele său. Liviu Voiculescu vrea să candideze pentru funcția de edil al Slatinei. Pe cutiile cu pască și anafură împărțite cetățenilor comunei Cungrea este inscripționat “Plic oferit de Primăria Cungrea/ Primar, Liviu Voiculescu”. Însă conținutul ambalajelor este de la biserică.  Liviu Voiculescu, președinte al PNL Olt, vrea să intre în cursa de la locale pentru Primăria Slatina. Voiculescu este inculpat, într-un dosar trimis în judecată, pentru constituire sau aderare la un grup infracţional organizat, conflict de interese, organizarea şi desfăşurarea de activităţi ilicite în domeniul jocurilor de noroc. Acesta a declarat, pentru presa locală, că procesul nu îl va afecta în contextul în care va candida pentru o funcție publică, „pentru că oamenii știu adevărul”. Redactor: Alexandru Costea'\n",
    "content = ' Două tipuri de celule din cavitatea nazală au fost identificate drept cele mai probabile puncte de intrare a coronavirusului în corpul uman, a concluzionat o echipă internaţională de cercetători, conform Agerpres. Oamenii de ştiinţă au descoperit că două tipuri de celule prezentau niveluri ridicate ale proteinelor de intrare pe care le foloseşte coronavirusul pentru a pătrunde în corpul uman. Potrivit specialiştilor, identificarea acestor celule ar putea explica rata mare de transmitere a acestui virus. În plus, cercetarea a demonstrat că celule din ochi şi din unele organe conţin, de asemenea, proteine de pătrundere virală. Conform unor studii anterioare, eşantioanele prelevate cu ajutorul tampoanelor speciale din nasul pacienţilor cu COVID-19, simptomatici sau asimptomatici, prezentau concentraţii virale mai mari în comparaţie cu cele prelevate din gât. Oamenii de ştiinţă au spus că rezultatele lor ar putea avea implicaţii în viitor pentru tratamentul şi prevenirea bolii. COVID-19, care a ucis peste 180.000 de oameni în întreaga lume, afectează plămânii şi căile respiratorii. Simptomele pot fi asemănătoare cu cele ale gripei, printre acestea numărându-se febra, tusea, în timp ce unele persoane pot să nu prezinte simptome, fiind totuşi capabile să transmită virusul. În cele mai grave cazuri, virusul provoacă pneumonie, care poate duce la deces. Se crede că virusul se răspândeşte prin picături respiratorii eliminate când o persoană infectată tuşeşte, strănută sau vorbeşte. Oameni de ştiinţă din întreaga lume încearcă să înţeleagă modul exact în care se răspândeşte virusul pentru a ajuta la prevenirea transmiterii şi dezvoltarea unui vaccin. Doctor Waradon Sungnak, autor principal al studiului, de la Wellcome Sanger Institute, a spus: „Am descoperit că proteina receptor ACE2 şi proteaza TMPRSS2 care pot activa intrarea SARS-CoV-2 sunt exprimate în celule din diferite organe, inclusiv celule de pe mucoasa interioară a nasului. Am dezvăluit apoi că celulele ce secretă mucus şi celulele ciliate din nas prezentau cele mai ridicate niveluri ale ambelor proteine virale de COVID-19 dintre toate celulele din căile respiratorii. Acest lucru face ca aceste celule să fie cea mai probabilă cale iniţială de infecţie pentru acest virus”. Doctor Martijn Nawijn de la Centrul Medical Universitar Groningen din Olanda, a declarat: „Este pentru prima dată când aceste celule din nas au fost asociate cu COVID-19. Deşi există numeroşi factori care contribuie la transmisibilitatea virusului, descoperirile noastre sunt în concordanţă cu ratele de infectare rapidă ale virusului, observate până în prezent. Localizarea acestor celule, pe suprafaţa internă a nasului le face foarte accesibile virusului şi, de asemenea, poate contribui la transmiterea către alte persoane”. Cercetarea a fost realizată de Wellcome Sanger Institute, Centrul Medical Universitar Groningen, Universitatea Coasta de Azur şi Centrul Naţional Francez de Cercetări Ştiinţifice (CNRS) şi colaboratorii lor, în cadrul Atlasului Celular Uman (Human Cell Atlas) al Lung Biological Network. Raportată în Nature Medicine, analiza face parte dintr-un demers internaţional prin care se încearcă utilizarea datelor din Atlasul Celular Uman pentru a înţelege infecţia şi boala. Pentru a descoperi care celule ar putea fi implicate în transmiterea coronavirusului, cercetătorii au analizat mai multe seturi de date din Atlasul Celular Uman din peste de douăzeci de ţesuturi diferite de la persoane neinfectate. Ei au căutat să afle care celule individuale au exprimat ambele proteine de intrare esenţiale pe care COVID-19 le foloseşte pentru a infecta celulele umane. Editor: A. D.'"
   ]
  },
  {
   "cell_type": "code",
   "execution_count": 83,
   "metadata": {},
   "outputs": [
    {
     "name": "stdout",
     "output_type": "stream",
     "text": [
      "['Două', 'tipuri', 'de', 'celule', 'din', 'cavitatea', 'nazală', 'au', 'fost', 'identificate', 'drept', 'cele', 'mai', 'probabile', 'puncte', 'de', 'intrare', 'a', 'coronavirusului', 'în', 'corpul', 'uman', 'a', 'concluzionat', 'o', 'echipă', 'internaţională', 'de', 'cercetători', 'conform', 'Agerpres', 'Oamenii', 'de', 'ştiinţă', 'au', 'descoperit', 'că', 'două', 'tipuri', 'de', 'celule', 'prezentau', 'niveluri', 'ridicate', 'ale', 'proteinelor', 'de', 'intrare', 'pe', 'care', 'le', 'foloseşte', 'coronavirusul', 'pentru', 'a', 'pătrunde', 'în', 'corpul', 'uman', 'Potrivit', 'specialiştilor', 'identificarea', 'acestor', 'celule', 'ar', 'putea', 'explica', 'rata', 'mare', 'de', 'transmitere', 'a', 'acestui', 'virus', 'În', 'plus', 'cercetarea', 'a', 'demonstrat', 'că', 'celule', 'din', 'ochi', 'şi', 'din', 'unele', 'organe', 'conţin', 'de', 'asemenea', 'proteine', 'de', 'pătrundere', 'virală', 'Conform', 'unor', 'studii', 'anterioare', 'eşantioanele', 'prelevate', 'cu', 'ajutorul', 'tampoanelor', 'speciale', 'din', 'nasul', 'pacienţilor', 'cu', 'simptomatici', 'sau', 'asimptomatici', 'prezentau', 'concentraţii', 'virale', 'mai', 'mari', 'în', 'comparaţie', 'cu', 'cele', 'prelevate', 'din', 'gât', 'Oamenii', 'de', 'ştiinţă', 'au', 'spus', 'că', 'rezultatele', 'lor', 'ar', 'putea', 'avea', 'implicaţii', 'în', 'viitor', 'pentru', 'tratamentul', 'şi', 'prevenirea', 'bolii', 'care', 'a', 'ucis', 'peste', 'de', 'oameni', 'în', 'întreaga', 'lume', 'afectează', 'plămânii', 'şi', 'căile', 'respiratorii', 'Simptomele', 'pot', 'fi', 'asemănătoare', 'cu', 'cele', 'ale', 'gripei', 'printre', 'acestea', 'febra', 'tusea', 'în', 'timp', 'ce', 'unele', 'persoane', 'pot', 'să', 'nu', 'prezinte', 'simptome', 'fiind', 'totuşi', 'capabile', 'să', 'transmită', 'virusul', 'În', 'cele', 'mai', 'grave', 'cazuri', 'virusul', 'provoacă', 'pneumonie', 'care', 'poate', 'duce', 'la', 'deces', 'Se', 'crede', 'că', 'virusul', 'se', 'răspândeşte', 'prin', 'picături', 'respiratorii', 'eliminate', 'când', 'o', 'persoană', 'infectată', 'tuşeşte', 'strănută', 'sau', 'vorbeşte', 'Oameni', 'de', 'ştiinţă', 'din', 'întreaga', 'lume', 'încearcă', 'să', 'înţeleagă', 'modul', 'exact', 'în', 'care', 'se', 'răspândeşte', 'virusul', 'pentru', 'a', 'ajuta', 'la', 'prevenirea', 'transmiterii', 'şi', 'dezvoltarea', 'unui', 'vaccin', 'Doctor', 'Waradon', 'Sungnak', 'autor', 'principal', 'al', 'studiului', 'de', 'la', 'Wellcome', 'Sanger', 'Institute', 'a', 'spus', 'Am', 'descoperit', 'că', 'proteina', 'receptor', 'ACE2', 'şi', 'proteaza', 'TMPRSS2', 'care', 'pot', 'activa', 'intrarea', 'sunt', 'exprimate', 'în', 'celule', 'din', 'diferite', 'organe', 'inclusiv', 'celule', 'de', 'pe', 'mucoasa', 'interioară', 'a', 'nasului', 'Am', 'dezvăluit', 'apoi', 'că', 'celulele', 'ce', 'secretă', 'mucus', 'şi', 'celulele', 'ciliate', 'din', 'nas', 'prezentau', 'cele', 'mai', 'ridicate', 'niveluri', 'ale', 'ambelor', 'proteine', 'virale', 'de', 'dintre', 'toate', 'celulele', 'din', 'căile', 'respiratorii', 'Acest', 'lucru', 'face', 'ca', 'aceste', 'celule', 'să', 'fie', 'cea', 'mai', 'probabilă', 'cale', 'iniţială', 'de', 'infecţie', 'pentru', 'acest', 'virus', 'Doctor', 'Martijn', 'Nawijn', 'de', 'la', 'Centrul', 'Medical', 'Universitar', 'Groningen', 'din', 'Olanda', 'a', 'declarat', 'Este', 'pentru', 'prima', 'dată', 'când', 'aceste', 'celule', 'din', 'nas', 'au', 'fost', 'asociate', 'cu', 'Deşi', 'există', 'numeroşi', 'factori', 'care', 'contribuie', 'la', 'transmisibilitatea', 'virusului', 'descoperirile', 'noastre', 'sunt', 'în', 'concordanţă', 'cu', 'ratele', 'de', 'infectare', 'rapidă', 'ale', 'virusului', 'observate', 'până', 'în', 'prezent', 'Localizarea', 'acestor', 'celule', 'pe', 'suprafaţa', 'internă', 'a', 'nasului', 'le', 'face', 'foarte', 'accesibile', 'virusului', 'şi', 'de', 'asemenea', 'poate', 'contribui', 'la', 'transmiterea', 'către', 'alte', 'persoane', 'Cercetarea', 'a', 'fost', 'realizată', 'de', 'Wellcome', 'Sanger', 'Institute', 'Centrul', 'Medical', 'Universitar', 'Groningen', 'Universitatea', 'Coasta', 'de', 'Azur', 'şi', 'Centrul', 'Naţional', 'Francez', 'de', 'Cercetări', 'Ştiinţifice', 'CNRS', 'şi', 'colaboratorii', 'lor', 'în', 'cadrul', 'Atlasului', 'Celular', 'Uman', 'Human', 'Cell', 'Atlas', 'al', 'Lung', 'Biological', 'Network', 'Raportată', 'în', 'Nature', 'Medicine', 'analiza', 'face', 'parte', 'demers', 'internaţional', 'prin', 'care', 'se', 'încearcă', 'utilizarea', 'datelor', 'din', 'Atlasul', 'Celular', 'Uman', 'pentru', 'a', 'înţelege', 'infecţia', 'şi', 'boala', 'Pentru', 'a', 'descoperi', 'care', 'celule', 'ar', 'putea', 'fi', 'implicate', 'în', 'transmiterea', 'coronavirusului', 'cercetătorii', 'au', 'analizat', 'mai', 'multe', 'seturi', 'de', 'date', 'din', 'Atlasul', 'Celular', 'Uman', 'din', 'peste', 'de', 'douăzeci', 'de', 'ţesuturi', 'diferite', 'de', 'la', 'persoane', 'neinfectate', 'Ei', 'au', 'căutat', 'să', 'afle', 'care', 'celule', 'individuale', 'au', 'exprimat', 'ambele', 'proteine', 'de', 'intrare', 'esenţiale', 'pe', 'care', 'le', 'foloseşte', 'pentru', 'a', 'infecta', 'celulele', 'umane', 'Editor', 'D']\n"
     ]
    }
   ],
   "source": [
    "words = word_tokenize(content)\n",
    "new_words= [word for word in words if word.isalnum()]\n",
    "print(new_words)"
   ]
  },
  {
   "cell_type": "code",
   "execution_count": 54,
   "metadata": {},
   "outputs": [],
   "source": [
    "from nltk.corpus import stopwords\n",
    "#stopwords.words('romanian')"
   ]
  },
  {
   "cell_type": "code",
   "execution_count": 84,
   "metadata": {},
   "outputs": [],
   "source": [
    "from nltk.corpus import stopwords\n",
    "new_content= [word for word in new_words if word not in stopwords.words('romanian')]"
   ]
  },
  {
   "cell_type": "code",
   "execution_count": 85,
   "metadata": {},
   "outputs": [
    {
     "name": "stdout",
     "output_type": "stream",
     "text": [
      "['Două', 'tipuri', 'celule', 'cavitatea', 'nazală', 'identificate', 'probabile', 'puncte', 'intrare', 'coronavirusului', 'corpul', 'uman', 'concluzionat', 'echipă', 'internaţională', 'cercetători', 'conform', 'Agerpres', 'Oamenii', 'ştiinţă', 'descoperit', 'tipuri', 'celule', 'prezentau', 'niveluri', 'ridicate', 'proteinelor', 'intrare', 'foloseşte', 'coronavirusul', 'pătrunde', 'corpul', 'uman', 'Potrivit', 'specialiştilor', 'identificarea', 'acestor', 'celule', 'putea', 'explica', 'rata', 'mare', 'transmitere', 'virus', 'În', 'plus', 'cercetarea', 'demonstrat', 'celule', 'ochi', 'organe', 'conţin', 'asemenea', 'proteine', 'pătrundere', 'virală', 'Conform', 'studii', 'anterioare', 'eşantioanele', 'prelevate', 'ajutorul', 'tampoanelor', 'speciale', 'nasul', 'pacienţilor', 'simptomatici', 'asimptomatici', 'prezentau', 'concentraţii', 'virale', 'mari', 'comparaţie', 'prelevate', 'gât', 'Oamenii', 'ştiinţă', 'spus', 'rezultatele', 'putea', 'implicaţii', 'viitor', 'tratamentul', 'prevenirea', 'bolii', 'ucis', 'oameni', 'întreaga', 'lume', 'afectează', 'plămânii', 'căile', 'respiratorii', 'Simptomele', 'asemănătoare', 'gripei', 'printre', 'febra', 'tusea', 'timp', 'persoane', 'prezinte', 'simptome', 'fiind', 'capabile', 'transmită', 'virusul', 'În', 'grave', 'cazuri', 'virusul', 'provoacă', 'pneumonie', 'duce', 'deces', 'Se', 'crede', 'virusul', 'răspândeşte', 'picături', 'respiratorii', 'eliminate', 'când', 'persoană', 'infectată', 'tuşeşte', 'strănută', 'vorbeşte', 'Oameni', 'ştiinţă', 'întreaga', 'lume', 'încearcă', 'înţeleagă', 'modul', 'exact', 'răspândeşte', 'virusul', 'ajuta', 'prevenirea', 'transmiterii', 'dezvoltarea', 'vaccin', 'Doctor', 'Waradon', 'Sungnak', 'autor', 'principal', 'studiului', 'Wellcome', 'Sanger', 'Institute', 'spus', 'Am', 'descoperit', 'proteina', 'receptor', 'ACE2', 'proteaza', 'TMPRSS2', 'activa', 'intrarea', 'exprimate', 'celule', 'diferite', 'organe', 'inclusiv', 'celule', 'mucoasa', 'interioară', 'nasului', 'Am', 'dezvăluit', 'celulele', 'secretă', 'mucus', 'celulele', 'ciliate', 'nas', 'prezentau', 'ridicate', 'niveluri', 'ambelor', 'proteine', 'virale', 'celulele', 'căile', 'respiratorii', 'Acest', 'lucru', 'celule', 'probabilă', 'cale', 'iniţială', 'infecţie', 'virus', 'Doctor', 'Martijn', 'Nawijn', 'Centrul', 'Medical', 'Universitar', 'Groningen', 'Olanda', 'declarat', 'Este', 'când', 'celule', 'nas', 'asociate', 'Deşi', 'există', 'numeroşi', 'factori', 'contribuie', 'transmisibilitatea', 'virusului', 'descoperirile', 'concordanţă', 'ratele', 'infectare', 'rapidă', 'virusului', 'observate', 'prezent', 'Localizarea', 'acestor', 'celule', 'suprafaţa', 'internă', 'nasului', 'accesibile', 'virusului', 'asemenea', 'contribui', 'transmiterea', 'persoane', 'Cercetarea', 'realizată', 'Wellcome', 'Sanger', 'Institute', 'Centrul', 'Medical', 'Universitar', 'Groningen', 'Universitatea', 'Coasta', 'Azur', 'Centrul', 'Naţional', 'Francez', 'Cercetări', 'Ştiinţifice', 'CNRS', 'colaboratorii', 'cadrul', 'Atlasului', 'Celular', 'Uman', 'Human', 'Cell', 'Atlas', 'Lung', 'Biological', 'Network', 'Raportată', 'Nature', 'Medicine', 'analiza', 'parte', 'demers', 'internaţional', 'încearcă', 'utilizarea', 'datelor', 'Atlasul', 'Celular', 'Uman', 'înţelege', 'infecţia', 'boala', 'Pentru', 'descoperi', 'celule', 'putea', 'implicate', 'transmiterea', 'coronavirusului', 'cercetătorii', 'analizat', 'seturi', 'date', 'Atlasul', 'Celular', 'Uman', 'douăzeci', 'ţesuturi', 'diferite', 'persoane', 'neinfectate', 'Ei', 'căutat', 'afle', 'celule', 'individuale', 'exprimat', 'ambele', 'proteine', 'intrare', 'esenţiale', 'foloseşte', 'infecta', 'celulele', 'umane', 'Editor', 'D']\n"
     ]
    }
   ],
   "source": [
    "print(new_content)"
   ]
  },
  {
   "cell_type": "code",
   "execution_count": 86,
   "metadata": {},
   "outputs": [],
   "source": [
    "from nltk.stem.snowball import SnowballStemmer\n",
    "stemmer = SnowballStemmer(\"romanian\")\n",
    "\n",
    "stems = [stemmer.stem(word) for word in new_content]"
   ]
  },
  {
   "cell_type": "code",
   "execution_count": 60,
   "metadata": {},
   "outputs": [
    {
     "name": "stdout",
     "output_type": "stream",
     "text": [
      "['răspând', 'pandem', 'coronavirus', 'europ', 'oprit', 'competiț', 'sportiv', 'europ', 'inclus', 'român', 'președint', 'klaus', 'iohannis', 'anunț', '15', 'put', 'vorb', 'relax', 'restricț', 'impu', 'odat', 'închei', 'stăr', 'urgenț', 'nu', 'știm', 'însă', 'relax', 'permit', 'și', 'relu', 'campion', 'țar', 'în', 'condiț', 'surprinz', 'consil', 'administr', 'federaț', 'român', 'handbal', 'decis', 'miercur', 'videoconferinţ', 'sezon', 'lig', 'naţional', 'masculin', 'feminin', 'termin', 'teren', 'prim', 'meciur', 'fiind', 'program', '31', 'ministr', 'tineret', 'și', 'sport', 'ionuț', 'stro', 'critic', 'joi', 'sear', 'digi24', 'deciz', 'federaț', 'handbal', 'consider', 'hazard', 'este', 'deciz', 'consider', 'puțin', 'hazard', 'poț', 'avans', 'niciun', 'atât', 'timp', 'cadru', 'legal', 'permit', 'lucru', 'stud', 'arat', 'clar', 'sportiv', 'reg', 'practic', 'antrenament', 'intens', 'suscept', 'infecț', 'cei', 'organiz', 'competiț', 'trebui', 'gând', 'sănăt', 'sportiv', 'sănăt', 'participanț', 'staffur', 'tehnic', 'nu', 'hazard', 'stabileșt', 'anum', 'dat', 'competițional', 'punctat', 'ministr', 'sport', 'subliniind', 'asemen', 'deciz', 'trebui', 'luat', 'coordon', 'minister', 'sănătăț', 'minister', 'intern', 'și', 'minister', 'conduc', 'e', 'adevăr', 'exist', 'aștept', 'public', 'masiv', 'relu', 'activităț', 'sportiv', 'însă', 'prioritat', 'absol', 'rămân', 'sănăt', 'public', 'tot', 'trebui', 'făcut', 'gradual', 'nișt', 'regul', 'clar', 'și', 'bin', 'defin', 'stabil', 'specialișt', 'niciun', 'caz', 'presiun', 'competiț', 'blocat', 'criz', 'coronavirus', 'înțeleger', 'plan', 'sportiv', 'între', 'clubur', 'entităț', 'organiz', 'eveniment', 'spus', 'ionuț', 'stro', 'sport', 'fiind', 'activ', 'grup', 'risc', 'epidemiolog', 'contract', 'virus', 'mar', 'aștept', 'moment', 'reluăr', 'încă', 'sosit', 'bineînțeles', 'trebui', 'pregăt', 'timp', 'sublin', 'ionuț', 'stro', 'el', 'arăt', 'exist', 'discuț', 'minister', 'sănătăț', 'și', 'promis', 'curând', 'prezent', 'plan', 'bin', 'articul', 'activ', 'relans', 'atent', 'ministr', 'evit', 'ofer', 'exact', 'relu', 'activităț', 'sportiv', 'ofer', 'totuș', 'orizont', 'timp', 'când', 'relax', 'măsur', 'extrem', 'rigur', 'dac', 'gând', 'dat', 'apropo', '15', 'perioad', 'put', 'suprapun', 'perioad', 'put', 'relax', 'măsur', 'extrem', 'rigur', 'adopt', 'acum', 'lun', 'și', 'prematur', 'ministru', 'ofer', 'clar', 'depind', 'evoluț', 'pandem', 'coronavirus', 'declar', 'ionuț', 'stro', 'în', 'priveșt', 'propun', 'rest', 'campion', 'român', 'fotbal', 'desfășoar', 'antaly', 'ministr', 'stro', 'spun', 'consult', 'privinț', 'scenariu', 'și', 'agreeaz', 'el', 'sublin', 'turc', 'țar', 'risc', 'epidemiolog', 'ridic', 'număr', 'infectăr', 'mar', 'decât', 'român', 'el', 'spus', 'ved', 'dificult', 'cre', 'cadru', 'similar', 'și', 'român', 'izol', 'întreag', 'echip', 'nu', 'văd', 'anataly', 'put', 'locaț', 'ofer', 'plus', 'echip', 'român', 'mențion', 'ionuț', 'stro', 'aic', 'put', 'control', 'și', 'proces', 'test', 'sportiv', 'înaint', 'competiț', 'închipui', 'put', 'merg', 'sportiv', 'loc', 'și', 'acolo', 'probabil', 'regul', 'lejer', 'îngădu', 'înaint', 'competiț', 'cantonament', 'întreag', 'strateg', 'gând', 'viitor', 'când', 'posibil', 'și', 'decis', 'asemen', 'redeschid', 'siguranț', 'devrem', '15', 'spus', 'stro', 'oficial', 'federaț', 'român', 'fotbal', 'venit', 'miercur', 'propun', 'lig', '1', 'mut', 'altă', 'țar', 'plan', 'moment', 'reiau', 'pregătir', 'echip', 'eșalon', 'deplas', 'cantonament', 'antaly', 'exemplu', 'destinaț', 'predilect', 'echip', 'româneșt', 'pregăt', 'dup', 'întrecer', 'sportiv', 'oprit', 'mart', 'cauz', 'pandem', 'coronavirus', 'lig', 'i', 'jucat', 'opt', 'etap', '12', 'edit', 'luan', 'păvăluc']\n"
     ]
    }
   ],
   "source": [
    "print(stems)"
   ]
  },
  {
   "cell_type": "code",
   "execution_count": 88,
   "metadata": {},
   "outputs": [],
   "source": [
    "from nltk.probability import FreqDist\n",
    "\n",
    "fdist = FreqDist(stems)\n"
   ]
  },
  {
   "cell_type": "code",
   "execution_count": 89,
   "metadata": {},
   "outputs": [
    {
     "name": "stdout",
     "output_type": "stream",
     "text": [
      "[('celul', 15), ('virus', 9), ('uman', 6), ('protein', 5), ('nas', 5), ('intrar', 4), ('cercet', 4), ('oamen', 4), ('prezent', 4), ('transmit', 4), ('persoan', 4), ('atlas', 4), ('coronavirus', 3), ('ştiinţ', 3), ('descoper', 3), ('put', 3), ('viral', 3), ('respir', 3), ('infect', 3), ('centr', 3)]\n"
     ]
    }
   ],
   "source": [
    "print(fdist.most_common(20))"
   ]
  },
  {
   "cell_type": "code",
   "execution_count": 93,
   "metadata": {},
   "outputs": [
    {
     "name": "stdout",
     "output_type": "stream",
     "text": [
      " două tipuri de celule din cavitatea nazală au fost identificate drept cele mai probabile puncte de intrare a coronavirusului în corpul uman, a concluzionat o echipă internaţională de cercetători, conform agerpres\n",
      "\n",
      " oamenii de ştiinţă au descoperit că două tipuri de celule prezentau niveluri ridicate ale proteinelor de intrare pe care le foloseşte coronavirusul pentru a pătrunde în corpul uman\n",
      "\n",
      " potrivit specialiştilor, identificarea acestor celule ar putea explica rata mare de transmitere a acestui virus\n",
      "\n",
      " în plus, cercetarea a demonstrat că celule din ochi şi din unele organe conţin, de asemenea, proteine de pătrundere virală\n",
      "\n",
      " conform unor studii anterioare, eşantioanele prelevate cu ajutorul tampoanelor speciale din nasul pacienţilor cu covid-19, simptomatici sau asimptomatici, prezentau concentraţii virale mai mari în comparaţie cu cele prelevate din gât\n",
      "\n",
      " oamenii de ştiinţă au spus că rezultatele lor ar putea avea implicaţii în viitor pentru tratamentul şi prevenirea bolii\n",
      "\n",
      " covid-19, care a ucis peste 180\n",
      "\n",
      "000 de oameni în întreaga lume, afectează plămânii şi căile respiratorii\n",
      "\n",
      " simptomele pot fi asemănătoare cu cele ale gripei, printre acestea numărându-se febra, tusea, în timp ce unele persoane pot să nu prezinte simptome, fiind totuşi capabile să transmită virusul\n",
      "\n",
      " în cele mai grave cazuri, virusul provoacă pneumonie, care poate duce la deces\n",
      "\n",
      " se crede că virusul se răspândeşte prin picături respiratorii eliminate când o persoană infectată tuşeşte, strănută sau vorbeşte\n",
      "\n",
      " oameni de ştiinţă din întreaga lume încearcă să înţeleagă modul exact în care se răspândeşte virusul pentru a ajuta la prevenirea transmiterii şi dezvoltarea unui vaccin\n",
      "\n",
      " doctor waradon sungnak, autor principal al studiului, de la wellcome sanger institute, a spus: „am descoperit că proteina receptor ace2 şi proteaza tmprss2 care pot activa intrarea sars-cov-2 sunt exprimate în celule din diferite organe, inclusiv celule de pe mucoasa interioară a nasului\n",
      "\n",
      " am dezvăluit apoi că celulele ce secretă mucus şi celulele ciliate din nas prezentau cele mai ridicate niveluri ale ambelor proteine virale de covid-19 dintre toate celulele din căile respiratorii\n",
      "\n",
      " acest lucru face ca aceste celule să fie cea mai probabilă cale iniţială de infecţie pentru acest virus”\n",
      "\n",
      " doctor martijn nawijn de la centrul medical universitar groningen din olanda, a declarat: „este pentru prima dată când aceste celule din nas au fost asociate cu covid-19\n",
      "\n",
      " deşi există numeroşi factori care contribuie la transmisibilitatea virusului, descoperirile noastre sunt în concordanţă cu ratele de infectare rapidă ale virusului, observate până în prezent\n",
      "\n",
      " localizarea acestor celule, pe suprafaţa internă a nasului le face foarte accesibile virusului şi, de asemenea, poate contribui la transmiterea către alte persoane”\n",
      "\n",
      " cercetarea a fost realizată de wellcome sanger institute, centrul medical universitar groningen, universitatea coasta de azur şi centrul naţional francez de cercetări ştiinţifice (cnrs) şi colaboratorii lor, în cadrul atlasului celular uman (human cell atlas) al lung biological network\n",
      "\n",
      " raportată în nature medicine, analiza face parte dintr-un demers internaţional prin care se încearcă utilizarea datelor din atlasul celular uman pentru a înţelege infecţia şi boala\n",
      "\n",
      " pentru a descoperi care celule ar putea fi implicate în transmiterea coronavirusului, cercetătorii au analizat mai multe seturi de date din atlasul celular uman din peste de douăzeci de ţesuturi diferite de la persoane neinfectate\n",
      "\n",
      " ei au căutat să afle care celule individuale au exprimat ambele proteine de intrare esenţiale pe care covid-19 le foloseşte pentru a infecta celulele umane\n",
      "\n",
      " editor: a\n",
      "\n",
      " d\n",
      "\n",
      "\n",
      "\n"
     ]
    }
   ],
   "source": [
    "sentence = content.lower().split('.')\n",
    "for s in sentence:\n",
    "    print(s+'\\n')\n",
    "org_sentence = content.split('.')"
   ]
  },
  {
   "cell_type": "code",
   "execution_count": 91,
   "metadata": {},
   "outputs": [
    {
     "name": "stdout",
     "output_type": "stream",
     "text": [
      "3665\n"
     ]
    }
   ],
   "source": [
    "print(len(content))"
   ]
  },
  {
   "cell_type": "code",
   "execution_count": 94,
   "metadata": {
    "scrolled": true
   },
   "outputs": [
    {
     "name": "stdout",
     "output_type": "stream",
     "text": [
      "best:  ['celul', 'virus', 'uman', 'protein', 'nas']\n",
      " Oamenii de ştiinţă au descoperit că două tipuri de celule prezentau niveluri ridicate ale proteinelor de intrare pe care le foloseşte coronavirusul pentru a pătrunde în corpul uman.  Potrivit specialiştilor, identificarea acestor celule ar putea explica rata mare de transmitere a acestui virus.  Am dezvăluit apoi că celulele ce secretă mucus şi celulele ciliate din nas prezentau cele mai ridicate niveluri ale ambelor proteine virale de COVID-19 dintre toate celulele din căile respiratorii.  Doctor Martijn Nawijn de la Centrul Medical Universitar Groningen din Olanda, a declarat: „Este pentru prima dată când aceste celule din nas au fost asociate cu COVID-19.\n"
     ]
    }
   ],
   "source": [
    "short = []\n",
    "best= []\n",
    "for pair in fdist.most_common(5):\n",
    "    best.append(pair[0])\n",
    "    \n",
    "print('best: ',best)\n",
    "for (i,s) in enumerate(sentence):\n",
    "    words = s.split(' ')\n",
    "    for word in words:\n",
    "        if word in best:\n",
    "            if s not in short and len(short) < 4:\n",
    "                short.append(org_sentence[i]+'.')\n",
    "print(' '.join(short))"
   ]
  },
  {
   "cell_type": "code",
   "execution_count": 36,
   "metadata": {},
   "outputs": [
    {
     "name": "stdout",
     "output_type": "stream",
     "text": [
      "voiculescu\n",
      "liviu\n",
      "primar\n",
      "comune\n"
     ]
    }
   ],
   "source": [
    "for pair in fdist.most_common(4):\n",
    "    print (pair[0])"
   ]
  },
  {
   "cell_type": "code",
   "execution_count": null,
   "metadata": {},
   "outputs": [],
   "source": []
  }
 ],
 "metadata": {
  "kernelspec": {
   "display_name": "Python 3",
   "language": "python",
   "name": "python3"
  },
  "language_info": {
   "codemirror_mode": {
    "name": "ipython",
    "version": 3
   },
   "file_extension": ".py",
   "mimetype": "text/x-python",
   "name": "python",
   "nbconvert_exporter": "python",
   "pygments_lexer": "ipython3",
   "version": "3.7.7"
  }
 },
 "nbformat": 4,
 "nbformat_minor": 4
}
